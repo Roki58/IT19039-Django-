{
  "nbformat": 4,
  "nbformat_minor": 0,
  "metadata": {
    "colab": {
      "provenance": [],
      "mount_file_id": "1wgVqgkS_-SB8mesj-jlRGbubr_xpLaaB",
      "authorship_tag": "ABX9TyNLz4XNMdtApxX11RKB8YId",
      "include_colab_link": true
    },
    "kernelspec": {
      "name": "python3",
      "display_name": "Python 3"
    },
    "language_info": {
      "name": "python"
    }
  },
  "cells": [
    {
      "cell_type": "markdown",
      "metadata": {
        "id": "view-in-github",
        "colab_type": "text"
      },
      "source": [
        "<a href=\"https://colab.research.google.com/github/Roki58/IT19039-Django-/blob/main/mclaurin%20series.ipynb\" target=\"_parent\"><img src=\"https://colab.research.google.com/assets/colab-badge.svg\" alt=\"Open In Colab\"/></a>"
      ]
    },
    {
      "cell_type": "code",
      "execution_count": null,
      "metadata": {
        "id": "8qrSS8jJ4l4Y"
      },
      "outputs": [],
      "source": []
    },
    {
      "cell_type": "code",
      "source": [
        "\n",
        "import pandas as pd\n",
        "from math import e, factorial\n",
        "import numpy as np\n",
        "\n",
        "# Vectorized factorial for efficiency\n",
        "fac = np.vectorize(factorial)\n",
        "\n",
        "def e_x(x, terms):\n",
        "    \"\"\"Approximates e^x using a given number of terms of\n",
        "    the Maclaurin series.\n",
        "    \"\"\"\n",
        "    n = np.arange(terms)\n",
        "    return np.sum((x ** n) / fac(n))\n",
        "\n",
        "# Read input values from CSV\n",
        "input_df = pd.read_csv('/content/input.csv')\n",
        "\n",
        "# Initialize an empty list to store the results\n",
        "results = []\n",
        "\n",
        "# Iterate over each row in the input DataFrame\n",
        "for index, row in input_df.iterrows():\n",
        "    x = row['x']\n",
        "    terms = int(row['terms'])\n",
        "\n",
        "    # Calculate Maclaurin series sum and error\n",
        "    maclaurin_sum = e_x(x, terms)\n",
        "    actual_value = e ** x\n",
        "    error = actual_value - maclaurin_sum\n",
        "\n",
        "    # Append the results to the list\n",
        "    results.append({\n",
        "        'x': x,\n",
        "        'terms': terms,\n",
        "        'Maclaurin Sum': maclaurin_sum,\n",
        "        'Actual Value': actual_value,\n",
        "        'Error': error\n",
        "    })\n",
        "\n",
        "# Create a DataFrame from the results\n",
        "output_df = pd.DataFrame(results)\n",
        "\n",
        "# Write output to CSV\n",
        "output_df.to_csv('output.csv', index=False)\n",
        "\n",
        "print(\"Calculation complete. Results saved to output.csv.\")"
      ],
      "metadata": {
        "colab": {
          "base_uri": "https://localhost:8080/"
        },
        "id": "9uwRkSJYAjpd",
        "outputId": "7c453b5b-6db5-42d9-9af7-7310926cc4da"
      },
      "execution_count": null,
      "outputs": [
        {
          "output_type": "stream",
          "name": "stdout",
          "text": [
            "Calculation complete. Results saved to output.csv.\n"
          ]
        }
      ]
    }
  ]
}